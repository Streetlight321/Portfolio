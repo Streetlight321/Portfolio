{
 "cells": [
  {
   "cell_type": "markdown",
   "metadata": {},
   "source": [
    "### How good is the Great Weapon Fighter Feat in Dungeons and Dragons?\n",
    "\n",
    "\n",
    "## Great Weapon Master\n",
    "\n",
    "**Prerequisite:** Strength 13 or higher\n",
    "\n",
    "**You've learned to put the weight of a weapon to your advantage, letting its momentum empower your strikes. You gain the following benefits:**\n",
    "\n",
    "- On your turn, when you score a critical hit with a melee weapon or reduce a creature to 0 hit points with one, you can make one melee weapon attack as a bonus action.\n",
    "\n",
    "- Before you make a melee attack with a heavy weapon that you are proficient with, you can choose to take a -5 penalty to the attack roll. If the attack hits, you add +10 to the attack's damage.\n"
   ]
  },
  {
   "cell_type": "code",
   "execution_count": 2,
   "metadata": {},
   "outputs": [],
   "source": [
    "#   Imports\n",
    "import random\n",
    "import matplotlib.pyplot as plt\n",
    "from statistics import mean\n",
    "import pandas as pd"
   ]
  },
  {
   "cell_type": "code",
   "execution_count": 3,
   "metadata": {},
   "outputs": [],
   "source": [
    "#   Functions to make my life easier.\n",
    "def roll(dice):\n",
    "    x = random.randint(1, dice+1)\n",
    "    return(x)\n",
    "\n",
    "def damageCalc():\n",
    "    return(random.randint(1,9)) #   Long Sword Damage is 1d8 (8 Sided Dice)."
   ]
  },
  {
   "cell_type": "code",
   "execution_count": 4,
   "metadata": {},
   "outputs": [
    {
     "data": {
      "text/plain": [
       "\"You'll do on average 2.86744 without great weapon master\""
      ]
     },
     "execution_count": 4,
     "metadata": {},
     "output_type": "execute_result"
    }
   ],
   "source": [
    "ac = 10 #   Standard Armor Class.\n",
    "damage = []\n",
    "turns = 100000 #    We're doing this over 100,000 turns.\n",
    "\n",
    "for i in range(turns):  #   Seeing weather or not it hits, then adding it to an array.\n",
    "    if roll(20) >= ac:\n",
    "        damage.append(damageCalc())\n",
    "    else:\n",
    "        damage.append(0)\n",
    "\n",
    "nonGWP = mean(damage)\n",
    "\"You'll do on average \" +str(nonGWP) + \" without great weapon master\""
   ]
  },
  {
   "cell_type": "code",
   "execution_count": 5,
   "metadata": {},
   "outputs": [],
   "source": [
    "def damageCalc():\n",
    "    return(random.randint(1,9) + 10)"
   ]
  },
  {
   "cell_type": "code",
   "execution_count": 6,
   "metadata": {},
   "outputs": [
    {
     "data": {
      "text/plain": [
       "\"You'll do on average 2.86744 with Great Weapon Master\""
      ]
     },
     "execution_count": 6,
     "metadata": {},
     "output_type": "execute_result"
    }
   ],
   "source": [
    "#   The same as the last few cells just some changes to take in account for Great Weapon Master.\n",
    "ac = 10 \n",
    "damageGWP = []\n",
    "turns = 100000\n",
    "\n",
    "for i in range(turns):\n",
    "    if roll(20)-5 >= ac:    # -5 penalty for the Great Weapon Master\n",
    "        damageGWP.append(damageCalc())\n",
    "    else:\n",
    "        damageGWP.append(0)\n",
    "\n",
    "gwp = mean(damage)\n",
    "\"You'll do on average \" +str(gwp) + \" with Great Weapon Master\""
   ]
  },
  {
   "cell_type": "code",
   "execution_count": 7,
   "metadata": {},
   "outputs": [
    {
     "data": {
      "text/plain": [
       "'Damage with Great Weapon fighter goes up by 0.0%'"
      ]
     },
     "execution_count": 7,
     "metadata": {},
     "output_type": "execute_result"
    }
   ],
   "source": [
    "\"Damage with Great Weapon fighter goes up by \"+str((gwp-nonGWP)/gwp*100)+\"%\""
   ]
  },
  {
   "cell_type": "code",
   "execution_count": 8,
   "metadata": {},
   "outputs": [],
   "source": [
    "damage_data = pd.DataFrame({    #   Putting all of the data into an excel sheet\n",
    "    \"Turn\": range(1, turns+1),\n",
    "    \"Damage_with_GWM\": damageGWP,\n",
    "    \"Damage_without_GWM\": damage\n",
    "})\n",
    "\n",
    "damage_data.to_excel('damage_comparison.xlsx', index=False)"
   ]
  },
  {
   "cell_type": "markdown",
   "metadata": {},
   "source": [
    "## Should you have Great Weapon Master always active?\n",
    "### Maybe\n",
    "- Without bonuses Great Weapon Master is incredibly inconsistent. \n",
    "- The larger the sample size, the higher the average is.\n",
    "- Against your run of the mill lankies with less than 30 health, Great Weapon Master is not nessesary especially if you have a party.\n",
    "\n",
    "## Conclusion\n",
    "\n",
    "- You simply do more damage over time with the use of the Great Weapon Master feat.\n",
    "- You do, on average 2 extra damage taking in account for the misses.\n",
    "- Use Great Weapon Master against those with higher health pools like a boss.\n",
    "- Use Great Weapn Master when given bonuses like Advantage (Rolling two dice and taking the higher of the two). \n",
    "\n",
    "\n"
   ]
  }
 ],
 "metadata": {
  "kernelspec": {
   "display_name": "Python 3",
   "language": "python",
   "name": "python3"
  },
  "language_info": {
   "codemirror_mode": {
    "name": "ipython",
    "version": 3
   },
   "file_extension": ".py",
   "mimetype": "text/x-python",
   "name": "python",
   "nbconvert_exporter": "python",
   "pygments_lexer": "ipython3",
   "version": "3.11.3"
  }
 },
 "nbformat": 4,
 "nbformat_minor": 2
}
