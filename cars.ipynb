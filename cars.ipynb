{
 "cells": [
  {
   "attachments": {},
   "cell_type": "markdown",
   "metadata": {},
   "source": [
    "<h1> Questions I wanted to ask: </h1>\n",
    "    <body> \n",
    "    1. What is the average cost of all cars?<br>\n",
    "    2. What is the average cost of every car make?<br>\n",
    "    3. What car model has the best 0-60?<br>\n",
    "    4. What car make has the best 0-60 in comparison to price?<br>\n",
    "    5. Is there a correlation between engine size and torque?<br>\n",
    "    6. Which car make and model combination has the highest horsepower? <br>\n",
    "    7. Is there a relationship between engine size and the 0-60 MPH time? <br>\n",
    "    8. Can we identify any outliers in terms of price within specific car makes? <br>\n",
    "    </body>"
   ]
  },
  {
   "cell_type": "code",
   "execution_count": 2,
   "metadata": {},
   "outputs": [],
   "source": [
    "import pandas as pd\n",
    "import numpy as np\n",
    "import matplotlib.pyplot as plt"
   ]
  },
  {
   "cell_type": "code",
   "execution_count": 3,
   "metadata": {},
   "outputs": [
    {
     "data": {
      "text/html": [
       "<div>\n",
       "<style scoped>\n",
       "    .dataframe tbody tr th:only-of-type {\n",
       "        vertical-align: middle;\n",
       "    }\n",
       "\n",
       "    .dataframe tbody tr th {\n",
       "        vertical-align: top;\n",
       "    }\n",
       "\n",
       "    .dataframe thead th {\n",
       "        text-align: right;\n",
       "    }\n",
       "</style>\n",
       "<table border=\"1\" class=\"dataframe\">\n",
       "  <thead>\n",
       "    <tr style=\"text-align: right;\">\n",
       "      <th></th>\n",
       "      <th>Car Make</th>\n",
       "      <th>Car Model</th>\n",
       "      <th>Year</th>\n",
       "      <th>Engine Size (L)</th>\n",
       "      <th>Horsepower</th>\n",
       "      <th>Torque (lb-ft)</th>\n",
       "      <th>0-60 MPH Time (seconds)</th>\n",
       "      <th>Price (in USD)</th>\n",
       "    </tr>\n",
       "  </thead>\n",
       "  <tbody>\n",
       "    <tr>\n",
       "      <th>0</th>\n",
       "      <td>Porsche</td>\n",
       "      <td>911</td>\n",
       "      <td>2022</td>\n",
       "      <td>3</td>\n",
       "      <td>379</td>\n",
       "      <td>331</td>\n",
       "      <td>4</td>\n",
       "      <td>101,200</td>\n",
       "    </tr>\n",
       "    <tr>\n",
       "      <th>1</th>\n",
       "      <td>Lamborghini</td>\n",
       "      <td>Huracan</td>\n",
       "      <td>2021</td>\n",
       "      <td>5.2</td>\n",
       "      <td>630</td>\n",
       "      <td>443</td>\n",
       "      <td>2.8</td>\n",
       "      <td>274,390</td>\n",
       "    </tr>\n",
       "    <tr>\n",
       "      <th>2</th>\n",
       "      <td>Ferrari</td>\n",
       "      <td>488 GTB</td>\n",
       "      <td>2022</td>\n",
       "      <td>3.9</td>\n",
       "      <td>661</td>\n",
       "      <td>561</td>\n",
       "      <td>3</td>\n",
       "      <td>333,750</td>\n",
       "    </tr>\n",
       "    <tr>\n",
       "      <th>3</th>\n",
       "      <td>Audi</td>\n",
       "      <td>R8</td>\n",
       "      <td>2022</td>\n",
       "      <td>5.2</td>\n",
       "      <td>562</td>\n",
       "      <td>406</td>\n",
       "      <td>3.2</td>\n",
       "      <td>142,700</td>\n",
       "    </tr>\n",
       "    <tr>\n",
       "      <th>4</th>\n",
       "      <td>McLaren</td>\n",
       "      <td>720S</td>\n",
       "      <td>2021</td>\n",
       "      <td>4</td>\n",
       "      <td>710</td>\n",
       "      <td>568</td>\n",
       "      <td>2.7</td>\n",
       "      <td>298,000</td>\n",
       "    </tr>\n",
       "  </tbody>\n",
       "</table>\n",
       "</div>"
      ],
      "text/plain": [
       "      Car Make Car Model  Year Engine Size (L) Horsepower Torque (lb-ft)   \n",
       "0      Porsche       911  2022               3        379            331  \\\n",
       "1  Lamborghini   Huracan  2021             5.2        630            443   \n",
       "2      Ferrari   488 GTB  2022             3.9        661            561   \n",
       "3         Audi        R8  2022             5.2        562            406   \n",
       "4      McLaren      720S  2021               4        710            568   \n",
       "\n",
       "  0-60 MPH Time (seconds) Price (in USD)  \n",
       "0                       4        101,200  \n",
       "1                     2.8        274,390  \n",
       "2                       3        333,750  \n",
       "3                     3.2        142,700  \n",
       "4                     2.7        298,000  "
      ]
     },
     "execution_count": 3,
     "metadata": {},
     "output_type": "execute_result"
    }
   ],
   "source": [
    "df = pd.read_csv(\"Sport car price.csv\")\n",
    "df.head()"
   ]
  },
  {
   "cell_type": "code",
   "execution_count": 4,
   "metadata": {},
   "outputs": [],
   "source": [
    "df['Price (in USD)'] = df['Price (in USD)'].str.replace(',', '')\n",
    "df['Price (in USD)'] = pd.to_numeric(df['Price (in USD)'], errors='coerce')"
   ]
  },
  {
   "attachments": {},
   "cell_type": "markdown",
   "metadata": {},
   "source": [
    "<h1> The following is the average cost of all cars. </h1>"
   ]
  },
  {
   "cell_type": "code",
   "execution_count": 5,
   "metadata": {},
   "outputs": [
    {
     "data": {
      "text/plain": [
       "382035.9414101291"
      ]
     },
     "execution_count": 5,
     "metadata": {},
     "output_type": "execute_result"
    }
   ],
   "source": [
    "average_price = df['Price (in USD)'].mean()\n",
    "average_price"
   ]
  },
  {
   "attachments": {},
   "cell_type": "markdown",
   "metadata": {},
   "source": [
    "<h1> The cost of all cars. </h1>"
   ]
  },
  {
   "cell_type": "code",
   "execution_count": 6,
   "metadata": {},
   "outputs": [],
   "source": [
    "groups = df.groupby('Car Make')['Price (in USD)']\n",
    "all_cars = groups.mean().sort_values()\n"
   ]
  },
  {
   "cell_type": "code",
   "execution_count": 7,
   "metadata": {},
   "outputs": [
    {
     "data": {
      "text/plain": [
       "Text(0, 0.5, 'Prices')"
      ]
     },
     "execution_count": 7,
     "metadata": {},
     "output_type": "execute_result"
    },
    {
     "data": {
      "image/png": "[encoded data removed]",
      "text/plain": [
       "<Figure size 640x480 with 1 Axes>"
      ]
     },
     "metadata": {},
     "output_type": "display_data"
    }
   ],
   "source": [
    "all_cars.plot(kind='bar')\n",
    "plt.title(\"Car Prices\")\n",
    "plt.xlabel(\"Car Make\")\n",
    "plt.ylabel(\"Prices\")"
   ]
  },
  {
   "attachments": {},
   "cell_type": "markdown",
   "metadata": {},
   "source": [
    "<h1> Getting the best 0-60 car </h1>"
   ]
  },
  {
   "cell_type": "code",
   "execution_count": 8,
   "metadata": {},
   "outputs": [
    {
     "data": {
      "text/html": [
       "<div>\n",
       "<style scoped>\n",
       "    .dataframe tbody tr th:only-of-type {\n",
       "        vertical-align: middle;\n",
       "    }\n",
       "\n",
       "    .dataframe tbody tr th {\n",
       "        vertical-align: top;\n",
       "    }\n",
       "\n",
       "    .dataframe thead th {\n",
       "        text-align: right;\n",
       "    }\n",
       "</style>\n",
       "<table border=\"1\" class=\"dataframe\">\n",
       "  <thead>\n",
       "    <tr style=\"text-align: right;\">\n",
       "      <th></th>\n",
       "      <th>Car Make</th>\n",
       "      <th>Car Model</th>\n",
       "      <th>Year</th>\n",
       "      <th>Engine Size (L)</th>\n",
       "      <th>Horsepower</th>\n",
       "      <th>Torque (lb-ft)</th>\n",
       "      <th>0-60 MPH Time (seconds)</th>\n",
       "      <th>Price (in USD)</th>\n",
       "    </tr>\n",
       "  </thead>\n",
       "  <tbody>\n",
       "    <tr>\n",
       "      <th>439</th>\n",
       "      <td>Rimac</td>\n",
       "      <td>C_Two</td>\n",
       "      <td>2021</td>\n",
       "      <td>Electric</td>\n",
       "      <td>1914</td>\n",
       "      <td>1732</td>\n",
       "      <td>1.8</td>\n",
       "      <td>2400000</td>\n",
       "    </tr>\n",
       "    <tr>\n",
       "      <th>387</th>\n",
       "      <td>Rimac</td>\n",
       "      <td>C_Two</td>\n",
       "      <td>2022</td>\n",
       "      <td>NaN</td>\n",
       "      <td>1888</td>\n",
       "      <td>1696</td>\n",
       "      <td>1.8</td>\n",
       "      <td>2400000</td>\n",
       "    </tr>\n",
       "    <tr>\n",
       "      <th>1006</th>\n",
       "      <td>Rimac</td>\n",
       "      <td>Nevera</td>\n",
       "      <td>2021</td>\n",
       "      <td>Electric Motor</td>\n",
       "      <td>1888</td>\n",
       "      <td>1696</td>\n",
       "      <td>1.85</td>\n",
       "      <td>2400000</td>\n",
       "    </tr>\n",
       "    <tr>\n",
       "      <th>824</th>\n",
       "      <td>Rimac</td>\n",
       "      <td>Nevera</td>\n",
       "      <td>2021</td>\n",
       "      <td>Electric</td>\n",
       "      <td>1914</td>\n",
       "      <td>1696</td>\n",
       "      <td>1.85</td>\n",
       "      <td>2400000</td>\n",
       "    </tr>\n",
       "    <tr>\n",
       "      <th>986</th>\n",
       "      <td>Rimac</td>\n",
       "      <td>Nevera</td>\n",
       "      <td>2022</td>\n",
       "      <td>Electric</td>\n",
       "      <td>1914</td>\n",
       "      <td>1696</td>\n",
       "      <td>1.85</td>\n",
       "      <td>2400000</td>\n",
       "    </tr>\n",
       "    <tr>\n",
       "      <th>...</th>\n",
       "      <td>...</td>\n",
       "      <td>...</td>\n",
       "      <td>...</td>\n",
       "      <td>...</td>\n",
       "      <td>...</td>\n",
       "      <td>...</td>\n",
       "      <td>...</td>\n",
       "      <td>...</td>\n",
       "    </tr>\n",
       "    <tr>\n",
       "      <th>820</th>\n",
       "      <td>Jaguar</td>\n",
       "      <td>F-Type</td>\n",
       "      <td>2022</td>\n",
       "      <td>2</td>\n",
       "      <td>296</td>\n",
       "      <td>295</td>\n",
       "      <td>5.4</td>\n",
       "      <td>62500</td>\n",
       "    </tr>\n",
       "    <tr>\n",
       "      <th>13</th>\n",
       "      <td>Jaguar</td>\n",
       "      <td>F-Type</td>\n",
       "      <td>2022</td>\n",
       "      <td>3</td>\n",
       "      <td>296</td>\n",
       "      <td>295</td>\n",
       "      <td>5.4</td>\n",
       "      <td>70100</td>\n",
       "    </tr>\n",
       "    <tr>\n",
       "      <th>707</th>\n",
       "      <td>Dodge</td>\n",
       "      <td>Challenger</td>\n",
       "      <td>2022</td>\n",
       "      <td>3.6</td>\n",
       "      <td>305</td>\n",
       "      <td>268</td>\n",
       "      <td>6.4</td>\n",
       "      <td>28000</td>\n",
       "    </tr>\n",
       "    <tr>\n",
       "      <th>92</th>\n",
       "      <td>Mazda</td>\n",
       "      <td>MX-5 Miata</td>\n",
       "      <td>2021</td>\n",
       "      <td>2</td>\n",
       "      <td>181</td>\n",
       "      <td>151</td>\n",
       "      <td>6.5</td>\n",
       "      <td>26830</td>\n",
       "    </tr>\n",
       "    <tr>\n",
       "      <th>364</th>\n",
       "      <td>Tesla</td>\n",
       "      <td>Roadster</td>\n",
       "      <td>2023</td>\n",
       "      <td>Electric</td>\n",
       "      <td>1,000+</td>\n",
       "      <td>737</td>\n",
       "      <td>&lt; 1.9</td>\n",
       "      <td>200000</td>\n",
       "    </tr>\n",
       "  </tbody>\n",
       "</table>\n",
       "<p>1007 rows × 8 columns</p>\n",
       "</div>"
      ],
      "text/plain": [
       "     Car Make   Car Model  Year Engine Size (L) Horsepower Torque (lb-ft)   \n",
       "439     Rimac       C_Two  2021        Electric       1914           1732  \\\n",
       "387     Rimac       C_Two  2022             NaN       1888           1696   \n",
       "1006    Rimac      Nevera  2021  Electric Motor       1888           1696   \n",
       "824     Rimac      Nevera  2021        Electric       1914           1696   \n",
       "986     Rimac      Nevera  2022        Electric       1914           1696   \n",
       "...       ...         ...   ...             ...        ...            ...   \n",
       "820    Jaguar      F-Type  2022               2        296            295   \n",
       "13     Jaguar      F-Type  2022               3        296            295   \n",
       "707     Dodge  Challenger  2022             3.6        305            268   \n",
       "92      Mazda  MX-5 Miata  2021               2        181            151   \n",
       "364     Tesla    Roadster  2023        Electric     1,000+            737   \n",
       "\n",
       "     0-60 MPH Time (seconds)  Price (in USD)  \n",
       "439                      1.8         2400000  \n",
       "387                      1.8         2400000  \n",
       "1006                    1.85         2400000  \n",
       "824                     1.85         2400000  \n",
       "986                     1.85         2400000  \n",
       "...                      ...             ...  \n",
       "820                      5.4           62500  \n",
       "13                       5.4           70100  \n",
       "707                      6.4           28000  \n",
       "92                       6.5           26830  \n",
       "364                    < 1.9          200000  \n",
       "\n",
       "[1007 rows x 8 columns]"
      ]
     },
     "execution_count": 8,
     "metadata": {},
     "output_type": "execute_result"
    }
   ],
   "source": [
    "sorted = df.sort_values(by=['0-60 MPH Time (seconds)'])\n",
    "sorted"
   ]
  },
  {
   "cell_type": "code",
   "execution_count": 9,
   "metadata": {},
   "outputs": [
    {
     "data": {
      "text/plain": [
       "Car Make                      Rimac\n",
       "Car Model                     C_Two\n",
       "Year                           2021\n",
       "Engine Size (L)            Electric\n",
       "Horsepower                     1914\n",
       "Torque (lb-ft)                 1732\n",
       "0-60 MPH Time (seconds)         1.8\n",
       "Price (in USD)              2400000\n",
       "Name: 439, dtype: object"
      ]
     },
     "execution_count": 9,
     "metadata": {},
     "output_type": "execute_result"
    }
   ],
   "source": [
    "bestTime = sorted.iloc[0]\n",
    "bestTime"
   ]
  },
  {
   "attachments": {},
   "cell_type": "markdown",
   "metadata": {},
   "source": [
    "<h1>What car make has the best horsepower in comparison to price?</h1>"
   ]
  },
  {
   "cell_type": "code",
   "execution_count": 16,
   "metadata": {},
   "outputs": [
    {
     "data": {
      "text/plain": [
       "Car Make                   Chevrolet\n",
       "Car Model                     Camaro\n",
       "Year                            2021\n",
       "Engine Size (L)                  6.2\n",
       "Horsepower                     455.0\n",
       "Torque (lb-ft)                   455\n",
       "0-60 MPH Time (seconds)            4\n",
       "Price (in USD)                 25000\n",
       "combined_score              24754.55\n",
       "Name: 997, dtype: object"
      ]
     },
     "execution_count": 16,
     "metadata": {},
     "output_type": "execute_result"
    }
   ],
   "source": [
    "df['Horsepower'] = pd.to_numeric(df['Horsepower'], errors='coerce')\n",
    "price_weight = 0.99\n",
    "time_weight = 0.01\n",
    "df['combined_score'] = (price_weight * df['Price (in USD)']) + (time_weight * df['Horsepower'])  \n",
    "best = df.sort_values(by = 'combined_score', ascending=True)\n",
    "best.iloc[0]"
   ]
  },
  {
   "attachments": {},
   "cell_type": "markdown",
   "metadata": {},
   "source": [
    "<h3> The numbers I'm getting is extremely interesting, so i'm going to plot price against horse power </h3>"
   ]
  },
  {
   "cell_type": "code",
   "execution_count": 11,
   "metadata": {},
   "outputs": [
    {
     "data": {
      "text/plain": [
       "Text(0, 0.5, 'Price')"
      ]
     },
     "execution_count": 11,
     "metadata": {},
     "output_type": "execute_result"
    },
    {
     "data": {
      "image/png": "[encoded data removed]",
      "text/plain": [
       "<Figure size 640x480 with 1 Axes>"
      ]
     },
     "metadata": {},
     "output_type": "display_data"
    }
   ],
   "source": [
    "plt.scatter(df['Horsepower'], df['Price (in USD)'])\n",
    "plt.xlabel(\"Horsepower\")\n",
    "plt.ylabel(\"Price\")"
   ]
  },
  {
   "attachments": {},
   "cell_type": "markdown",
   "metadata": {},
   "source": [
    "<h3> Going to do regression analysis because this is an interesting relationship <h3>"
   ]
  },
  {
   "cell_type": "code",
   "execution_count": 12,
   "metadata": {},
   "outputs": [
    {
     "data": {
      "text/plain": [
       "count     998.000000\n",
       "mean      627.324649\n",
       "std       299.973805\n",
       "min       181.000000\n",
       "25%       454.000000\n",
       "50%       591.000000\n",
       "75%       671.000000\n",
       "max      2000.000000\n",
       "Name: Horsepower, dtype: float64"
      ]
     },
     "execution_count": 12,
     "metadata": {},
     "output_type": "execute_result"
    }
   ],
   "source": [
    "df[\"Horsepower\"].describe()"
   ]
  },
  {
   "cell_type": "code",
   "execution_count": 13,
   "metadata": {},
   "outputs": [
    {
     "ename": "ValueError",
     "evalue": "Input X contains NaN.\nLinearRegression does not accept missing values encoded as NaN natively. For supervised learning, you might want to consider sklearn.ensemble.HistGradientBoostingClassifier and Regressor which accept missing values encoded as NaNs natively. Alternatively, it is possible to preprocess the data, for instance by using an imputer transformer in a pipeline or drop samples with missing values. See https://scikit-learn.org/stable/modules/impute.html You can find a list of all estimators that handle NaN values at the following page: https://scikit-learn.org/stable/modules/impute.html#estimators-that-handle-nan-values",
     "output_type": "error",
     "traceback": [
      "\u001b[1;31m---------------------------------------------------------------------------\u001b[0m",
      "\u001b[1;31mValueError\u001b[0m                                Traceback (most recent call last)",
      "Cell \u001b[1;32mIn[13], line 5\u001b[0m\n\u001b[0;32m      3\u001b[0m x \u001b[39m=\u001b[39m df[[\u001b[39m'\u001b[39m\u001b[39mHorsepower\u001b[39m\u001b[39m'\u001b[39m]]\n\u001b[0;32m      4\u001b[0m y \u001b[39m=\u001b[39m df[\u001b[39m'\u001b[39m\u001b[39mPrice (in USD)\u001b[39m\u001b[39m'\u001b[39m]\n\u001b[1;32m----> 5\u001b[0m model\u001b[39m.\u001b[39;49mfit(x, y) \u001b[39m#oops\u001b[39;00m\n",
      "File \u001b[1;32mc:\\Users\\Yousef\\AppData\\Local\\Programs\\Python\\Python311\\Lib\\site-packages\\sklearn\\linear_model\\_base.py:648\u001b[0m, in \u001b[0;36mLinearRegression.fit\u001b[1;34m(self, X, y, sample_weight)\u001b[0m\n\u001b[0;32m    644\u001b[0m n_jobs_ \u001b[39m=\u001b[39m \u001b[39mself\u001b[39m\u001b[39m.\u001b[39mn_jobs\n\u001b[0;32m    646\u001b[0m accept_sparse \u001b[39m=\u001b[39m \u001b[39mFalse\u001b[39;00m \u001b[39mif\u001b[39;00m \u001b[39mself\u001b[39m\u001b[39m.\u001b[39mpositive \u001b[39melse\u001b[39;00m [\u001b[39m\"\u001b[39m\u001b[39mcsr\u001b[39m\u001b[39m\"\u001b[39m, \u001b[39m\"\u001b[39m\u001b[39mcsc\u001b[39m\u001b[39m\"\u001b[39m, \u001b[39m\"\u001b[39m\u001b[39mcoo\u001b[39m\u001b[39m\"\u001b[39m]\n\u001b[1;32m--> 648\u001b[0m X, y \u001b[39m=\u001b[39m \u001b[39mself\u001b[39;49m\u001b[39m.\u001b[39;49m_validate_data(\n\u001b[0;32m    649\u001b[0m     X, y, accept_sparse\u001b[39m=\u001b[39;49maccept_sparse, y_numeric\u001b[39m=\u001b[39;49m\u001b[39mTrue\u001b[39;49;00m, multi_output\u001b[39m=\u001b[39;49m\u001b[39mTrue\u001b[39;49;00m\n\u001b[0;32m    650\u001b[0m )\n\u001b[0;32m    652\u001b[0m sample_weight \u001b[39m=\u001b[39m _check_sample_weight(\n\u001b[0;32m    653\u001b[0m     sample_weight, X, dtype\u001b[39m=\u001b[39mX\u001b[39m.\u001b[39mdtype, only_non_negative\u001b[39m=\u001b[39m\u001b[39mTrue\u001b[39;00m\n\u001b[0;32m    654\u001b[0m )\n\u001b[0;32m    656\u001b[0m X, y, X_offset, y_offset, X_scale \u001b[39m=\u001b[39m _preprocess_data(\n\u001b[0;32m    657\u001b[0m     X,\n\u001b[0;32m    658\u001b[0m     y,\n\u001b[1;32m   (...)\u001b[0m\n\u001b[0;32m    661\u001b[0m     sample_weight\u001b[39m=\u001b[39msample_weight,\n\u001b[0;32m    662\u001b[0m )\n",
      "File \u001b[1;32mc:\\Users\\Yousef\\AppData\\Local\\Programs\\Python\\Python311\\Lib\\site-packages\\sklearn\\base.py:584\u001b[0m, in \u001b[0;36mBaseEstimator._validate_data\u001b[1;34m(self, X, y, reset, validate_separately, **check_params)\u001b[0m\n\u001b[0;32m    582\u001b[0m         y \u001b[39m=\u001b[39m check_array(y, input_name\u001b[39m=\u001b[39m\u001b[39m\"\u001b[39m\u001b[39my\u001b[39m\u001b[39m\"\u001b[39m, \u001b[39m*\u001b[39m\u001b[39m*\u001b[39mcheck_y_params)\n\u001b[0;32m    583\u001b[0m     \u001b[39melse\u001b[39;00m:\n\u001b[1;32m--> 584\u001b[0m         X, y \u001b[39m=\u001b[39m check_X_y(X, y, \u001b[39m*\u001b[39;49m\u001b[39m*\u001b[39;49mcheck_params)\n\u001b[0;32m    585\u001b[0m     out \u001b[39m=\u001b[39m X, y\n\u001b[0;32m    587\u001b[0m \u001b[39mif\u001b[39;00m \u001b[39mnot\u001b[39;00m no_val_X \u001b[39mand\u001b[39;00m check_params\u001b[39m.\u001b[39mget(\u001b[39m\"\u001b[39m\u001b[39mensure_2d\u001b[39m\u001b[39m\"\u001b[39m, \u001b[39mTrue\u001b[39;00m):\n",
      "File \u001b[1;32mc:\\Users\\Yousef\\AppData\\Local\\Programs\\Python\\Python311\\Lib\\site-packages\\sklearn\\utils\\validation.py:1106\u001b[0m, in \u001b[0;36mcheck_X_y\u001b[1;34m(X, y, accept_sparse, accept_large_sparse, dtype, order, copy, force_all_finite, ensure_2d, allow_nd, multi_output, ensure_min_samples, ensure_min_features, y_numeric, estimator)\u001b[0m\n\u001b[0;32m   1101\u001b[0m         estimator_name \u001b[39m=\u001b[39m _check_estimator_name(estimator)\n\u001b[0;32m   1102\u001b[0m     \u001b[39mraise\u001b[39;00m \u001b[39mValueError\u001b[39;00m(\n\u001b[0;32m   1103\u001b[0m         \u001b[39mf\u001b[39m\u001b[39m\"\u001b[39m\u001b[39m{\u001b[39;00mestimator_name\u001b[39m}\u001b[39;00m\u001b[39m requires y to be passed, but the target y is None\u001b[39m\u001b[39m\"\u001b[39m\n\u001b[0;32m   1104\u001b[0m     )\n\u001b[1;32m-> 1106\u001b[0m X \u001b[39m=\u001b[39m check_array(\n\u001b[0;32m   1107\u001b[0m     X,\n\u001b[0;32m   1108\u001b[0m     accept_sparse\u001b[39m=\u001b[39;49maccept_sparse,\n\u001b[0;32m   1109\u001b[0m     accept_large_sparse\u001b[39m=\u001b[39;49maccept_large_sparse,\n\u001b[0;32m   1110\u001b[0m     dtype\u001b[39m=\u001b[39;49mdtype,\n\u001b[0;32m   1111\u001b[0m     order\u001b[39m=\u001b[39;49morder,\n\u001b[0;32m   1112\u001b[0m     copy\u001b[39m=\u001b[39;49mcopy,\n\u001b[0;32m   1113\u001b[0m     force_all_finite\u001b[39m=\u001b[39;49mforce_all_finite,\n\u001b[0;32m   1114\u001b[0m     ensure_2d\u001b[39m=\u001b[39;49mensure_2d,\n\u001b[0;32m   1115\u001b[0m     allow_nd\u001b[39m=\u001b[39;49mallow_nd,\n\u001b[0;32m   1116\u001b[0m     ensure_min_samples\u001b[39m=\u001b[39;49mensure_min_samples,\n\u001b[0;32m   1117\u001b[0m     ensure_min_features\u001b[39m=\u001b[39;49mensure_min_features,\n\u001b[0;32m   1118\u001b[0m     estimator\u001b[39m=\u001b[39;49mestimator,\n\u001b[0;32m   1119\u001b[0m     input_name\u001b[39m=\u001b[39;49m\u001b[39m\"\u001b[39;49m\u001b[39mX\u001b[39;49m\u001b[39m\"\u001b[39;49m,\n\u001b[0;32m   1120\u001b[0m )\n\u001b[0;32m   1122\u001b[0m y \u001b[39m=\u001b[39m _check_y(y, multi_output\u001b[39m=\u001b[39mmulti_output, y_numeric\u001b[39m=\u001b[39my_numeric, estimator\u001b[39m=\u001b[39mestimator)\n\u001b[0;32m   1124\u001b[0m check_consistent_length(X, y)\n",
      "File \u001b[1;32mc:\\Users\\Yousef\\AppData\\Local\\Programs\\Python\\Python311\\Lib\\site-packages\\sklearn\\utils\\validation.py:921\u001b[0m, in \u001b[0;36mcheck_array\u001b[1;34m(array, accept_sparse, accept_large_sparse, dtype, order, copy, force_all_finite, ensure_2d, allow_nd, ensure_min_samples, ensure_min_features, estimator, input_name)\u001b[0m\n\u001b[0;32m    915\u001b[0m         \u001b[39mraise\u001b[39;00m \u001b[39mValueError\u001b[39;00m(\n\u001b[0;32m    916\u001b[0m             \u001b[39m\"\u001b[39m\u001b[39mFound array with dim \u001b[39m\u001b[39m%d\u001b[39;00m\u001b[39m. \u001b[39m\u001b[39m%s\u001b[39;00m\u001b[39m expected <= 2.\u001b[39m\u001b[39m\"\u001b[39m\n\u001b[0;32m    917\u001b[0m             \u001b[39m%\u001b[39m (array\u001b[39m.\u001b[39mndim, estimator_name)\n\u001b[0;32m    918\u001b[0m         )\n\u001b[0;32m    920\u001b[0m     \u001b[39mif\u001b[39;00m force_all_finite:\n\u001b[1;32m--> 921\u001b[0m         _assert_all_finite(\n\u001b[0;32m    922\u001b[0m             array,\n\u001b[0;32m    923\u001b[0m             input_name\u001b[39m=\u001b[39;49minput_name,\n\u001b[0;32m    924\u001b[0m             estimator_name\u001b[39m=\u001b[39;49mestimator_name,\n\u001b[0;32m    925\u001b[0m             allow_nan\u001b[39m=\u001b[39;49mforce_all_finite \u001b[39m==\u001b[39;49m \u001b[39m\"\u001b[39;49m\u001b[39mallow-nan\u001b[39;49m\u001b[39m\"\u001b[39;49m,\n\u001b[0;32m    926\u001b[0m         )\n\u001b[0;32m    928\u001b[0m \u001b[39mif\u001b[39;00m ensure_min_samples \u001b[39m>\u001b[39m \u001b[39m0\u001b[39m:\n\u001b[0;32m    929\u001b[0m     n_samples \u001b[39m=\u001b[39m _num_samples(array)\n",
      "File \u001b[1;32mc:\\Users\\Yousef\\AppData\\Local\\Programs\\Python\\Python311\\Lib\\site-packages\\sklearn\\utils\\validation.py:161\u001b[0m, in \u001b[0;36m_assert_all_finite\u001b[1;34m(X, allow_nan, msg_dtype, estimator_name, input_name)\u001b[0m\n\u001b[0;32m    144\u001b[0m \u001b[39mif\u001b[39;00m estimator_name \u001b[39mand\u001b[39;00m input_name \u001b[39m==\u001b[39m \u001b[39m\"\u001b[39m\u001b[39mX\u001b[39m\u001b[39m\"\u001b[39m \u001b[39mand\u001b[39;00m has_nan_error:\n\u001b[0;32m    145\u001b[0m     \u001b[39m# Improve the error message on how to handle missing values in\u001b[39;00m\n\u001b[0;32m    146\u001b[0m     \u001b[39m# scikit-learn.\u001b[39;00m\n\u001b[0;32m    147\u001b[0m     msg_err \u001b[39m+\u001b[39m\u001b[39m=\u001b[39m (\n\u001b[0;32m    148\u001b[0m         \u001b[39mf\u001b[39m\u001b[39m\"\u001b[39m\u001b[39m\\n\u001b[39;00m\u001b[39m{\u001b[39;00mestimator_name\u001b[39m}\u001b[39;00m\u001b[39m does not accept missing values\u001b[39m\u001b[39m\"\u001b[39m\n\u001b[0;32m    149\u001b[0m         \u001b[39m\"\u001b[39m\u001b[39m encoded as NaN natively. For supervised learning, you might want\u001b[39m\u001b[39m\"\u001b[39m\n\u001b[1;32m   (...)\u001b[0m\n\u001b[0;32m    159\u001b[0m         \u001b[39m\"\u001b[39m\u001b[39m#estimators-that-handle-nan-values\u001b[39m\u001b[39m\"\u001b[39m\n\u001b[0;32m    160\u001b[0m     )\n\u001b[1;32m--> 161\u001b[0m \u001b[39mraise\u001b[39;00m \u001b[39mValueError\u001b[39;00m(msg_err)\n",
      "\u001b[1;31mValueError\u001b[0m: Input X contains NaN.\nLinearRegression does not accept missing values encoded as NaN natively. For supervised learning, you might want to consider sklearn.ensemble.HistGradientBoostingClassifier and Regressor which accept missing values encoded as NaNs natively. Alternatively, it is possible to preprocess the data, for instance by using an imputer transformer in a pipeline or drop samples with missing values. See https://scikit-learn.org/stable/modules/impute.html You can find a list of all estimators that handle NaN values at the following page: https://scikit-learn.org/stable/modules/impute.html#estimators-that-handle-nan-values"
     ]
    }
   ],
   "source": [
    "from sklearn.linear_model import LinearRegression\n",
    "model = LinearRegression()\n",
    "x = df[['Horsepower']]\n",
    "y = df['Price (in USD)']\n",
    "model.fit(x, y) #oops"
   ]
  },
  {
   "cell_type": "code",
   "execution_count": null,
   "metadata": {},
   "outputs": [
    {
     "data": {
      "text/plain": [
       "Car Make                    0\n",
       "Car Model                   0\n",
       "Year                        0\n",
       "Engine Size (L)            10\n",
       "Horsepower                  9\n",
       "Torque (lb-ft)              3\n",
       "0-60 MPH Time (seconds)     0\n",
       "Price (in USD)              0\n",
       "combined_score              9\n",
       "dtype: int64"
      ]
     },
     "execution_count": 53,
     "metadata": {},
     "output_type": "execute_result"
    }
   ],
   "source": [
    "#   Some null values\n",
    "df.isnull().sum()"
   ]
  },
  {
   "cell_type": "code",
   "execution_count": null,
   "metadata": {},
   "outputs": [],
   "source": [
    "df = df.dropna()"
   ]
  },
  {
   "cell_type": "code",
   "execution_count": null,
   "metadata": {},
   "outputs": [
    {
     "data": {
      "text/plain": [
       "[<matplotlib.lines.Line2D at 0x247ae75e3d0>]"
      ]
     },
     "execution_count": 67,
     "metadata": {},
     "output_type": "execute_result"
    },
    {
     "data": {
      "image/png": "[encoded data removed]",
      "text/plain": [
       "<Figure size 640x480 with 1 Axes>"
      ]
     },
     "metadata": {},
     "output_type": "display_data"
    }
   ],
   "source": [
    "from sklearn.linear_model import LinearRegression\n",
    "model = LinearRegression()\n",
    "x = df[['Horsepower']]\n",
    "y = df['Price (in USD)']\n",
    "model = model.fit(x, y)\n",
    "intercept = model.intercept_\n",
    "slope = model.coef_\n",
    "y_pred = model.predict(x)\n",
    "plt.scatter(x,y)\n",
    "plt.plot(x, y_pred, color = 'red')"
   ]
  },
  {
   "cell_type": "code",
   "execution_count": null,
   "metadata": {},
   "outputs": [
    {
     "data": {
      "text/plain": [
       "0.7977607693571174"
      ]
     },
     "execution_count": 124,
     "metadata": {},
     "output_type": "execute_result"
    }
   ],
   "source": [
    "df['Horsepower'] = pd.to_numeric(df['Horsepower'], errors='coerce')\n",
    "df['Horsepower'].corr(df['Price (in USD)'])"
   ]
  },
  {
   "attachments": {},
   "cell_type": "markdown",
   "metadata": {},
   "source": [
    "<h3> There is a corrilation of 0.80 represents that there's a strong positive corrilation between price and horsepower </h3>"
   ]
  },
  {
   "attachments": {},
   "cell_type": "markdown",
   "metadata": {},
   "source": [
    "<h1>Is there a correlation between engine size and torque?</h1>"
   ]
  },
  {
   "cell_type": "code",
   "execution_count": null,
   "metadata": {},
   "outputs": [
    {
     "data": {
      "text/plain": [
       "0.6043204541650273"
      ]
     },
     "execution_count": 128,
     "metadata": {},
     "output_type": "execute_result"
    }
   ],
   "source": [
    "df['Engine Size (L)'] = pd.to_numeric(df['Engine Size (L)'], errors='coerce')\n",
    "df['Torque (lb-ft)'] = pd.to_numeric(df['Torque (lb-ft)'], errors='coerce')\n",
    "df['Torque (lb-ft)'].corr(df['Engine Size (L)'])"
   ]
  },
  {
   "attachments": {},
   "cell_type": "markdown",
   "metadata": {},
   "source": [
    "<h3> Torque and Engine size are moderately corrilated </h3>"
   ]
  },
  {
   "cell_type": "code",
   "execution_count": null,
   "metadata": {},
   "outputs": [
    {
     "data": {
      "text/plain": [
       "('P-value:', 2.9913397560053598e-95)"
      ]
     },
     "execution_count": 194,
     "metadata": {},
     "output_type": "execute_result"
    }
   ],
   "source": [
    "import statsmodels.api as sm\n",
    "df = df.dropna()\n",
    "x = df[['Engine Size (L)']]\n",
    "y = df['Torque (lb-ft)']\n",
    "x = sm.add_constant(x)\n",
    "model = sm.OLS(y, x)\n",
    "results = model.fit()\n",
    "p_value = results.pvalues['Engine Size (L)']\n",
    "'P-value:', p_value"
   ]
  },
  {
   "attachments": {},
   "cell_type": "markdown",
   "metadata": {},
   "source": [
    "<h3> Engine Size absolutely has a relationship with torque"
   ]
  },
  {
   "attachments": {},
   "cell_type": "markdown",
   "metadata": {},
   "source": [
    "<h1> Which car make and model combination has the highest horsepower? </h1>"
   ]
  },
  {
   "cell_type": "code",
   "execution_count": null,
   "metadata": {},
   "outputs": [
    {
     "data": {
      "text/plain": [
       "Car Make                        Mazda\n",
       "Car Model                  MX-5 Miata\n",
       "Year                             2021\n",
       "Engine Size (L)                   2.0\n",
       "Horsepower                      181.0\n",
       "Torque (lb-ft)                  151.0\n",
       "0-60 MPH Time (seconds)           6.5\n",
       "Price (in USD)                  26830\n",
       "Name: 92, dtype: object"
      ]
     },
     "execution_count": 129,
     "metadata": {},
     "output_type": "execute_result"
    }
   ],
   "source": [
    "sorted = df.sort_values(by = ['Horsepower'])\n",
    "sorted.iloc[0]"
   ]
  },
  {
   "cell_type": "code",
   "execution_count": null,
   "metadata": {},
   "outputs": [
    {
     "data": {
      "text/plain": [
       "Text(0, 0.5, 'Horse Power')"
      ]
     },
     "execution_count": 138,
     "metadata": {},
     "output_type": "execute_result"
    },
    {
     "data": {
      "image/png": "[encoded data removed]",
      "text/plain": [
       "<Figure size 640x480 with 1 Axes>"
      ]
     },
     "metadata": {},
     "output_type": "display_data"
    }
   ],
   "source": [
    "groups = df.groupby('Car Make')['Horsepower']\n",
    "groups.mean().sort_values().plot(kind='bar')\n",
    "plt.title('Average Horsepower')\n",
    "plt.xlabel('Car Makes')\n",
    "plt.ylabel('Horse Power')"
   ]
  },
  {
   "attachments": {},
   "cell_type": "markdown",
   "metadata": {},
   "source": [
    "<h1>Is there a relationship between engine size and the 0-60 MPH time?</h1>"
   ]
  },
  {
   "cell_type": "code",
   "execution_count": null,
   "metadata": {},
   "outputs": [],
   "source": [
    "df['0-60 MPH Time (seconds)'] = pd.to_numeric(df['0-60 MPH Time (seconds)'], errors='coerce')"
   ]
  },
  {
   "cell_type": "code",
   "execution_count": null,
   "metadata": {},
   "outputs": [
    {
     "data": {
      "text/plain": [
       "('P-value:', 2.1079524803281336e-30)"
      ]
     },
     "execution_count": 155,
     "metadata": {},
     "output_type": "execute_result"
    }
   ],
   "source": [
    "import statsmodels.api as sm\n",
    "df = df.dropna()\n",
    "x = df[['Engine Size (L)']]\n",
    "y = df['0-60 MPH Time (seconds)']\n",
    "x = sm.add_constant(x)\n",
    "model = sm.OLS(y, x)\n",
    "results = model.fit()\n",
    "p_value = results.pvalues['Engine Size (L)']\n",
    "'P-value:', p_value"
   ]
  },
  {
   "attachments": {},
   "cell_type": "markdown",
   "metadata": {},
   "source": [
    "<h2>There is a relationship between engine size and 0-60, so let's do regression analysis</h2>"
   ]
  },
  {
   "cell_type": "code",
   "execution_count": null,
   "metadata": {},
   "outputs": [
    {
     "data": {
      "text/plain": [
       "[<matplotlib.lines.Line2D at 0x247b8651910>]"
      ]
     },
     "execution_count": 150,
     "metadata": {},
     "output_type": "execute_result"
    },
    {
     "data": {
      "image/png": "[encoded data removed]",
      "text/plain": [
       "<Figure size 640x480 with 1 Axes>"
      ]
     },
     "metadata": {},
     "output_type": "display_data"
    }
   ],
   "source": [
    "model = LinearRegression()\n",
    "model.fit(x,y)\n",
    "intercept = model.intercept_\n",
    "slope = model.coef_\n",
    "y_pred = model.predict(x)\n",
    "plt.scatter(x,y)\n",
    "plt.xlabel(\"Engine Size\")\n",
    "plt.ylabel('0-60')\n",
    "plt.plot(x, y_pred, color = 'red')"
   ]
  },
  {
   "cell_type": "code",
   "execution_count": null,
   "metadata": {},
   "outputs": [
    {
     "name": "stdout",
     "output_type": "stream",
     "text": [
      "-0.18744186894477882 4.41406788722529\n"
     ]
    }
   ],
   "source": [
    "print(slope[0], intercept)"
   ]
  },
  {
   "attachments": {},
   "cell_type": "markdown",
   "metadata": {},
   "source": [
    "<h1>Can we identify any outliers in terms of price within specific car makes?</h1>"
   ]
  },
  {
   "cell_type": "code",
   "execution_count": null,
   "metadata": {},
   "outputs": [
    {
     "data": {
      "text/plain": [
       "'There are 51 outlires in 946 cars'"
      ]
     },
     "execution_count": 178,
     "metadata": {},
     "output_type": "execute_result"
    }
   ],
   "source": [
    "#   How do I do this? Imma just use Z scores honestly\n",
    "df['Z_Score'] = (df['Price (in USD)'] - df['Price (in USD)'].mean()) / df['Price (in USD)'].std()\n",
    "outliers = df[abs(df['Z_Score']) >= 3]\n",
    "'There are ' + str(len(outliers)) + ' outlires in ' +str(len(df)) + ' cars'"
   ]
  },
  {
   "attachments": {},
   "cell_type": "markdown",
   "metadata": {},
   "source": [
    "<h3> The following are the outlires </h3>"
   ]
  },
  {
   "cell_type": "code",
   "execution_count": null,
   "metadata": {},
   "outputs": [
    {
     "data": {
      "text/html": [
       "<div>\n",
       "<style scoped>\n",
       "    .dataframe tbody tr th:only-of-type {\n",
       "        vertical-align: middle;\n",
       "    }\n",
       "\n",
       "    .dataframe tbody tr th {\n",
       "        vertical-align: top;\n",
       "    }\n",
       "\n",
       "    .dataframe thead th {\n",
       "        text-align: right;\n",
       "    }\n",
       "</style>\n",
       "<table border=\"1\" class=\"dataframe\">\n",
       "  <thead>\n",
       "    <tr style=\"text-align: right;\">\n",
       "      <th></th>\n",
       "      <th>Car Make</th>\n",
       "      <th>Car Model</th>\n",
       "      <th>Year</th>\n",
       "      <th>Engine Size (L)</th>\n",
       "      <th>Horsepower</th>\n",
       "      <th>Torque (lb-ft)</th>\n",
       "      <th>0-60 MPH Time (seconds)</th>\n",
       "      <th>Price (in USD)</th>\n",
       "      <th>Z_Score</th>\n",
       "    </tr>\n",
       "  </thead>\n",
       "  <tbody>\n",
       "    <tr>\n",
       "      <th>11</th>\n",
       "      <td>Bugatti</td>\n",
       "      <td>Chiron</td>\n",
       "      <td>2021</td>\n",
       "      <td>8.0</td>\n",
       "      <td>1500.0</td>\n",
       "      <td>1180.0</td>\n",
       "      <td>2.4</td>\n",
       "      <td>3000000</td>\n",
       "      <td>3.876311</td>\n",
       "    </tr>\n",
       "    <tr>\n",
       "      <th>14</th>\n",
       "      <td>Koenigsegg</td>\n",
       "      <td>Jesko</td>\n",
       "      <td>2021</td>\n",
       "      <td>5.0</td>\n",
       "      <td>1280.0</td>\n",
       "      <td>1015.0</td>\n",
       "      <td>2.5</td>\n",
       "      <td>2800000</td>\n",
       "      <td>3.584847</td>\n",
       "    </tr>\n",
       "    <tr>\n",
       "      <th>24</th>\n",
       "      <td>Pagani</td>\n",
       "      <td>Huayra</td>\n",
       "      <td>2021</td>\n",
       "      <td>6.0</td>\n",
       "      <td>720.0</td>\n",
       "      <td>737.0</td>\n",
       "      <td>2.8</td>\n",
       "      <td>2800000</td>\n",
       "      <td>3.584847</td>\n",
       "    </tr>\n",
       "    <tr>\n",
       "      <th>85</th>\n",
       "      <td>Bugatti</td>\n",
       "      <td>Chiron</td>\n",
       "      <td>2022</td>\n",
       "      <td>8.0</td>\n",
       "      <td>1500.0</td>\n",
       "      <td>1180.0</td>\n",
       "      <td>2.4</td>\n",
       "      <td>3000000</td>\n",
       "      <td>3.876311</td>\n",
       "    </tr>\n",
       "    <tr>\n",
       "      <th>88</th>\n",
       "      <td>Koenigsegg</td>\n",
       "      <td>Jesko</td>\n",
       "      <td>2022</td>\n",
       "      <td>5.0</td>\n",
       "      <td>1600.0</td>\n",
       "      <td>1106.0</td>\n",
       "      <td>2.5</td>\n",
       "      <td>3000000</td>\n",
       "      <td>3.876311</td>\n",
       "    </tr>\n",
       "    <tr>\n",
       "      <th>95</th>\n",
       "      <td>Pagani</td>\n",
       "      <td>Huayra</td>\n",
       "      <td>2022</td>\n",
       "      <td>6.0</td>\n",
       "      <td>764.0</td>\n",
       "      <td>738.0</td>\n",
       "      <td>2.8</td>\n",
       "      <td>2800000</td>\n",
       "      <td>3.584847</td>\n",
       "    </tr>\n",
       "    <tr>\n",
       "      <th>113</th>\n",
       "      <td>Bugatti</td>\n",
       "      <td>Chiron</td>\n",
       "      <td>2021</td>\n",
       "      <td>8.0</td>\n",
       "      <td>1500.0</td>\n",
       "      <td>1180.0</td>\n",
       "      <td>2.4</td>\n",
       "      <td>3000000</td>\n",
       "      <td>3.876311</td>\n",
       "    </tr>\n",
       "    <tr>\n",
       "      <th>158</th>\n",
       "      <td>Bugatti</td>\n",
       "      <td>Chiron</td>\n",
       "      <td>2021</td>\n",
       "      <td>8.0</td>\n",
       "      <td>1500.0</td>\n",
       "      <td>1180.0</td>\n",
       "      <td>2.4</td>\n",
       "      <td>3000000</td>\n",
       "      <td>3.876311</td>\n",
       "    </tr>\n",
       "    <tr>\n",
       "      <th>161</th>\n",
       "      <td>Koenigsegg</td>\n",
       "      <td>Jesko</td>\n",
       "      <td>2022</td>\n",
       "      <td>5.0</td>\n",
       "      <td>1600.0</td>\n",
       "      <td>1106.0</td>\n",
       "      <td>2.5</td>\n",
       "      <td>3000000</td>\n",
       "      <td>3.876311</td>\n",
       "    </tr>\n",
       "    <tr>\n",
       "      <th>166</th>\n",
       "      <td>Pagani</td>\n",
       "      <td>Huayra</td>\n",
       "      <td>2020</td>\n",
       "      <td>6.0</td>\n",
       "      <td>720.0</td>\n",
       "      <td>738.0</td>\n",
       "      <td>3.0</td>\n",
       "      <td>2700000</td>\n",
       "      <td>3.439115</td>\n",
       "    </tr>\n",
       "    <tr>\n",
       "      <th>174</th>\n",
       "      <td>W Motors</td>\n",
       "      <td>Lykan Hypersport</td>\n",
       "      <td>2015</td>\n",
       "      <td>3.7</td>\n",
       "      <td>780.0</td>\n",
       "      <td>708.0</td>\n",
       "      <td>2.8</td>\n",
       "      <td>3400000</td>\n",
       "      <td>4.459239</td>\n",
       "    </tr>\n",
       "    <tr>\n",
       "      <th>206</th>\n",
       "      <td>Bugatti</td>\n",
       "      <td>Chiron</td>\n",
       "      <td>2021</td>\n",
       "      <td>8.0</td>\n",
       "      <td>1500.0</td>\n",
       "      <td>1180.0</td>\n",
       "      <td>2.3</td>\n",
       "      <td>3000000</td>\n",
       "      <td>3.876311</td>\n",
       "    </tr>\n",
       "    <tr>\n",
       "      <th>274</th>\n",
       "      <td>Bugatti</td>\n",
       "      <td>Chiron</td>\n",
       "      <td>2021</td>\n",
       "      <td>8.0</td>\n",
       "      <td>1500.0</td>\n",
       "      <td>1180.0</td>\n",
       "      <td>2.4</td>\n",
       "      <td>2998000</td>\n",
       "      <td>3.873396</td>\n",
       "    </tr>\n",
       "    <tr>\n",
       "      <th>275</th>\n",
       "      <td>Koenigsegg</td>\n",
       "      <td>Jesko</td>\n",
       "      <td>2021</td>\n",
       "      <td>5.0</td>\n",
       "      <td>1280.0</td>\n",
       "      <td>1015.0</td>\n",
       "      <td>2.5</td>\n",
       "      <td>3000000</td>\n",
       "      <td>3.876311</td>\n",
       "    </tr>\n",
       "    <tr>\n",
       "      <th>279</th>\n",
       "      <td>Pagani</td>\n",
       "      <td>Huayra Roadster BC</td>\n",
       "      <td>2021</td>\n",
       "      <td>6.0</td>\n",
       "      <td>791.0</td>\n",
       "      <td>774.0</td>\n",
       "      <td>2.5</td>\n",
       "      <td>3500000</td>\n",
       "      <td>4.604971</td>\n",
       "    </tr>\n",
       "    <tr>\n",
       "      <th>303</th>\n",
       "      <td>Bugatti</td>\n",
       "      <td>Chiron</td>\n",
       "      <td>2021</td>\n",
       "      <td>8.0</td>\n",
       "      <td>1479.0</td>\n",
       "      <td>1180.0</td>\n",
       "      <td>2.3</td>\n",
       "      <td>2998000</td>\n",
       "      <td>3.873396</td>\n",
       "    </tr>\n",
       "    <tr>\n",
       "      <th>318</th>\n",
       "      <td>Pagani</td>\n",
       "      <td>Huayra</td>\n",
       "      <td>2021</td>\n",
       "      <td>6.0</td>\n",
       "      <td>730.0</td>\n",
       "      <td>738.0</td>\n",
       "      <td>3.0</td>\n",
       "      <td>2600000</td>\n",
       "      <td>3.293383</td>\n",
       "    </tr>\n",
       "    <tr>\n",
       "      <th>328</th>\n",
       "      <td>Koenigsegg</td>\n",
       "      <td>Jesko</td>\n",
       "      <td>2022</td>\n",
       "      <td>5.0</td>\n",
       "      <td>1280.0</td>\n",
       "      <td>1015.0</td>\n",
       "      <td>2.5</td>\n",
       "      <td>3000000</td>\n",
       "      <td>3.876311</td>\n",
       "    </tr>\n",
       "    <tr>\n",
       "      <th>341</th>\n",
       "      <td>Bugatti</td>\n",
       "      <td>Chiron</td>\n",
       "      <td>2021</td>\n",
       "      <td>8.0</td>\n",
       "      <td>1500.0</td>\n",
       "      <td>1180.0</td>\n",
       "      <td>2.4</td>\n",
       "      <td>3000000</td>\n",
       "      <td>3.876311</td>\n",
       "    </tr>\n",
       "    <tr>\n",
       "      <th>344</th>\n",
       "      <td>Koenigsegg</td>\n",
       "      <td>Jesko</td>\n",
       "      <td>2022</td>\n",
       "      <td>5.0</td>\n",
       "      <td>1280.0</td>\n",
       "      <td>1106.0</td>\n",
       "      <td>2.5</td>\n",
       "      <td>2800000</td>\n",
       "      <td>3.584847</td>\n",
       "    </tr>\n",
       "    <tr>\n",
       "      <th>350</th>\n",
       "      <td>Pagani</td>\n",
       "      <td>Huayra BC</td>\n",
       "      <td>2021</td>\n",
       "      <td>6.0</td>\n",
       "      <td>791.0</td>\n",
       "      <td>774.0</td>\n",
       "      <td>2.7</td>\n",
       "      <td>2600000</td>\n",
       "      <td>3.293383</td>\n",
       "    </tr>\n",
       "    <tr>\n",
       "      <th>376</th>\n",
       "      <td>Bugatti</td>\n",
       "      <td>Chiron</td>\n",
       "      <td>2022</td>\n",
       "      <td>8.0</td>\n",
       "      <td>1500.0</td>\n",
       "      <td>1180.0</td>\n",
       "      <td>2.4</td>\n",
       "      <td>3000000</td>\n",
       "      <td>3.876311</td>\n",
       "    </tr>\n",
       "    <tr>\n",
       "      <th>379</th>\n",
       "      <td>Koenigsegg</td>\n",
       "      <td>Jesko</td>\n",
       "      <td>2022</td>\n",
       "      <td>5.0</td>\n",
       "      <td>1280.0</td>\n",
       "      <td>1015.0</td>\n",
       "      <td>2.5</td>\n",
       "      <td>2800000</td>\n",
       "      <td>3.584847</td>\n",
       "    </tr>\n",
       "    <tr>\n",
       "      <th>385</th>\n",
       "      <td>Pagani</td>\n",
       "      <td>Huayra</td>\n",
       "      <td>2021</td>\n",
       "      <td>6.0</td>\n",
       "      <td>764.0</td>\n",
       "      <td>738.0</td>\n",
       "      <td>2.8</td>\n",
       "      <td>3500000</td>\n",
       "      <td>4.604971</td>\n",
       "    </tr>\n",
       "    <tr>\n",
       "      <th>418</th>\n",
       "      <td>Koenigsegg</td>\n",
       "      <td>Jesko Absolut</td>\n",
       "      <td>2022</td>\n",
       "      <td>5.0</td>\n",
       "      <td>1600.0</td>\n",
       "      <td>1106.0</td>\n",
       "      <td>2.1</td>\n",
       "      <td>2800000</td>\n",
       "      <td>3.584847</td>\n",
       "    </tr>\n",
       "    <tr>\n",
       "      <th>434</th>\n",
       "      <td>Bugatti</td>\n",
       "      <td>Chiron</td>\n",
       "      <td>2022</td>\n",
       "      <td>8.0</td>\n",
       "      <td>1500.0</td>\n",
       "      <td>1180.0</td>\n",
       "      <td>2.4</td>\n",
       "      <td>3000000</td>\n",
       "      <td>3.876311</td>\n",
       "    </tr>\n",
       "    <tr>\n",
       "      <th>435</th>\n",
       "      <td>Koenigsegg</td>\n",
       "      <td>Jesko</td>\n",
       "      <td>2021</td>\n",
       "      <td>5.0</td>\n",
       "      <td>1262.0</td>\n",
       "      <td>1106.0</td>\n",
       "      <td>2.5</td>\n",
       "      <td>3000000</td>\n",
       "      <td>3.876311</td>\n",
       "    </tr>\n",
       "    <tr>\n",
       "      <th>436</th>\n",
       "      <td>Pagani</td>\n",
       "      <td>Huayra</td>\n",
       "      <td>2021</td>\n",
       "      <td>6.0</td>\n",
       "      <td>764.0</td>\n",
       "      <td>738.0</td>\n",
       "      <td>2.6</td>\n",
       "      <td>2600000</td>\n",
       "      <td>3.293383</td>\n",
       "    </tr>\n",
       "    <tr>\n",
       "      <th>438</th>\n",
       "      <td>Lamborghini</td>\n",
       "      <td>Sián</td>\n",
       "      <td>2021</td>\n",
       "      <td>6.5</td>\n",
       "      <td>819.0</td>\n",
       "      <td>531.0</td>\n",
       "      <td>2.8</td>\n",
       "      <td>3600000</td>\n",
       "      <td>4.750703</td>\n",
       "    </tr>\n",
       "    <tr>\n",
       "      <th>499</th>\n",
       "      <td>Bugatti</td>\n",
       "      <td>Chiron</td>\n",
       "      <td>2022</td>\n",
       "      <td>8.0</td>\n",
       "      <td>1500.0</td>\n",
       "      <td>1180.0</td>\n",
       "      <td>2.3</td>\n",
       "      <td>3000000</td>\n",
       "      <td>3.876311</td>\n",
       "    </tr>\n",
       "    <tr>\n",
       "      <th>502</th>\n",
       "      <td>Koenigsegg</td>\n",
       "      <td>Jesko</td>\n",
       "      <td>2021</td>\n",
       "      <td>5.0</td>\n",
       "      <td>1280.0</td>\n",
       "      <td>1106.0</td>\n",
       "      <td>2.5</td>\n",
       "      <td>2800000</td>\n",
       "      <td>3.584847</td>\n",
       "    </tr>\n",
       "    <tr>\n",
       "      <th>507</th>\n",
       "      <td>Pagani</td>\n",
       "      <td>Huayra</td>\n",
       "      <td>2021</td>\n",
       "      <td>6.0</td>\n",
       "      <td>764.0</td>\n",
       "      <td>738.0</td>\n",
       "      <td>2.6</td>\n",
       "      <td>2600000</td>\n",
       "      <td>3.293383</td>\n",
       "    </tr>\n",
       "    <tr>\n",
       "      <th>519</th>\n",
       "      <td>Bugatti</td>\n",
       "      <td>Chiron</td>\n",
       "      <td>2021</td>\n",
       "      <td>8.0</td>\n",
       "      <td>1500.0</td>\n",
       "      <td>1180.0</td>\n",
       "      <td>2.3</td>\n",
       "      <td>3000000</td>\n",
       "      <td>3.876311</td>\n",
       "    </tr>\n",
       "    <tr>\n",
       "      <th>539</th>\n",
       "      <td>Koenigsegg</td>\n",
       "      <td>Jesko</td>\n",
       "      <td>2021</td>\n",
       "      <td>5.0</td>\n",
       "      <td>1280.0</td>\n",
       "      <td>1015.0</td>\n",
       "      <td>2.5</td>\n",
       "      <td>2800000</td>\n",
       "      <td>3.584847</td>\n",
       "    </tr>\n",
       "    <tr>\n",
       "      <th>541</th>\n",
       "      <td>Bugatti</td>\n",
       "      <td>Chiron Super Sport 300+</td>\n",
       "      <td>2022</td>\n",
       "      <td>8.0</td>\n",
       "      <td>1578.0</td>\n",
       "      <td>1180.0</td>\n",
       "      <td>2.3</td>\n",
       "      <td>5200000</td>\n",
       "      <td>7.082416</td>\n",
       "    </tr>\n",
       "    <tr>\n",
       "      <th>571</th>\n",
       "      <td>Bugatti</td>\n",
       "      <td>Chiron</td>\n",
       "      <td>2021</td>\n",
       "      <td>8.0</td>\n",
       "      <td>1479.0</td>\n",
       "      <td>1180.0</td>\n",
       "      <td>2.5</td>\n",
       "      <td>3000000</td>\n",
       "      <td>3.876311</td>\n",
       "    </tr>\n",
       "    <tr>\n",
       "      <th>624</th>\n",
       "      <td>Bugatti</td>\n",
       "      <td>Chiron Pur Sport</td>\n",
       "      <td>2021</td>\n",
       "      <td>8.0</td>\n",
       "      <td>1500.0</td>\n",
       "      <td>1180.0</td>\n",
       "      <td>2.3</td>\n",
       "      <td>3599000</td>\n",
       "      <td>4.749246</td>\n",
       "    </tr>\n",
       "    <tr>\n",
       "      <th>631</th>\n",
       "      <td>Bugatti</td>\n",
       "      <td>Chiron</td>\n",
       "      <td>2021</td>\n",
       "      <td>8.0</td>\n",
       "      <td>1500.0</td>\n",
       "      <td>1180.0</td>\n",
       "      <td>2.5</td>\n",
       "      <td>3000000</td>\n",
       "      <td>3.876311</td>\n",
       "    </tr>\n",
       "    <tr>\n",
       "      <th>683</th>\n",
       "      <td>Bugatti</td>\n",
       "      <td>Chiron</td>\n",
       "      <td>2022</td>\n",
       "      <td>8.0</td>\n",
       "      <td>1500.0</td>\n",
       "      <td>1180.0</td>\n",
       "      <td>2.4</td>\n",
       "      <td>3000000</td>\n",
       "      <td>3.876311</td>\n",
       "    </tr>\n",
       "    <tr>\n",
       "      <th>684</th>\n",
       "      <td>Koenigsegg</td>\n",
       "      <td>Jesko</td>\n",
       "      <td>2021</td>\n",
       "      <td>5.0</td>\n",
       "      <td>1280.0</td>\n",
       "      <td>1106.0</td>\n",
       "      <td>2.5</td>\n",
       "      <td>2800000</td>\n",
       "      <td>3.584847</td>\n",
       "    </tr>\n",
       "    <tr>\n",
       "      <th>685</th>\n",
       "      <td>Pagani</td>\n",
       "      <td>Huayra</td>\n",
       "      <td>2021</td>\n",
       "      <td>6.0</td>\n",
       "      <td>764.0</td>\n",
       "      <td>737.0</td>\n",
       "      <td>3.0</td>\n",
       "      <td>2600000</td>\n",
       "      <td>3.293383</td>\n",
       "    </tr>\n",
       "    <tr>\n",
       "      <th>782</th>\n",
       "      <td>Bugatti</td>\n",
       "      <td>Chiron</td>\n",
       "      <td>2021</td>\n",
       "      <td>8.0</td>\n",
       "      <td>1479.0</td>\n",
       "      <td>1180.0</td>\n",
       "      <td>2.4</td>\n",
       "      <td>3000000</td>\n",
       "      <td>3.876311</td>\n",
       "    </tr>\n",
       "    <tr>\n",
       "      <th>822</th>\n",
       "      <td>Koenigsegg</td>\n",
       "      <td>Jesko</td>\n",
       "      <td>2022</td>\n",
       "      <td>5.0</td>\n",
       "      <td>1600.0</td>\n",
       "      <td>1106.0</td>\n",
       "      <td>2.5</td>\n",
       "      <td>3000000</td>\n",
       "      <td>3.876311</td>\n",
       "    </tr>\n",
       "    <tr>\n",
       "      <th>823</th>\n",
       "      <td>Bugatti</td>\n",
       "      <td>Chiron Super Sport 300+</td>\n",
       "      <td>2021</td>\n",
       "      <td>8.0</td>\n",
       "      <td>1578.0</td>\n",
       "      <td>1180.0</td>\n",
       "      <td>2.4</td>\n",
       "      <td>5200000</td>\n",
       "      <td>7.082416</td>\n",
       "    </tr>\n",
       "    <tr>\n",
       "      <th>864</th>\n",
       "      <td>Bugatti</td>\n",
       "      <td>Chiron</td>\n",
       "      <td>2022</td>\n",
       "      <td>8.0</td>\n",
       "      <td>1479.0</td>\n",
       "      <td>1180.0</td>\n",
       "      <td>2.4</td>\n",
       "      <td>2900000</td>\n",
       "      <td>3.730579</td>\n",
       "    </tr>\n",
       "    <tr>\n",
       "      <th>983</th>\n",
       "      <td>Bugatti</td>\n",
       "      <td>Chiron</td>\n",
       "      <td>2022</td>\n",
       "      <td>8.0</td>\n",
       "      <td>1500.0</td>\n",
       "      <td>1180.0</td>\n",
       "      <td>2.5</td>\n",
       "      <td>3900000</td>\n",
       "      <td>5.187900</td>\n",
       "    </tr>\n",
       "    <tr>\n",
       "      <th>984</th>\n",
       "      <td>Koenigsegg</td>\n",
       "      <td>Jesko</td>\n",
       "      <td>2022</td>\n",
       "      <td>5.0</td>\n",
       "      <td>1280.0</td>\n",
       "      <td>1015.0</td>\n",
       "      <td>2.5</td>\n",
       "      <td>3000000</td>\n",
       "      <td>3.876311</td>\n",
       "    </tr>\n",
       "    <tr>\n",
       "      <th>985</th>\n",
       "      <td>Pagani</td>\n",
       "      <td>Huayra</td>\n",
       "      <td>2021</td>\n",
       "      <td>6.0</td>\n",
       "      <td>764.0</td>\n",
       "      <td>740.0</td>\n",
       "      <td>2.8</td>\n",
       "      <td>2600000</td>\n",
       "      <td>3.293383</td>\n",
       "    </tr>\n",
       "    <tr>\n",
       "      <th>1001</th>\n",
       "      <td>Bugatti</td>\n",
       "      <td>Chiron</td>\n",
       "      <td>2021</td>\n",
       "      <td>8.0</td>\n",
       "      <td>1479.0</td>\n",
       "      <td>1180.0</td>\n",
       "      <td>2.4</td>\n",
       "      <td>3000000</td>\n",
       "      <td>3.876311</td>\n",
       "    </tr>\n",
       "    <tr>\n",
       "      <th>1002</th>\n",
       "      <td>Koenigsegg</td>\n",
       "      <td>Jesko</td>\n",
       "      <td>2022</td>\n",
       "      <td>5.0</td>\n",
       "      <td>1280.0</td>\n",
       "      <td>1106.0</td>\n",
       "      <td>2.5</td>\n",
       "      <td>3000000</td>\n",
       "      <td>3.876311</td>\n",
       "    </tr>\n",
       "    <tr>\n",
       "      <th>1005</th>\n",
       "      <td>Pagani</td>\n",
       "      <td>Huayra</td>\n",
       "      <td>2021</td>\n",
       "      <td>6.0</td>\n",
       "      <td>764.0</td>\n",
       "      <td>738.0</td>\n",
       "      <td>3.0</td>\n",
       "      <td>2600000</td>\n",
       "      <td>3.293383</td>\n",
       "    </tr>\n",
       "  </tbody>\n",
       "</table>\n",
       "</div>"
      ],
      "text/plain": [
       "         Car Make                Car Model  Year  Engine Size (L)  Horsepower   \n",
       "11        Bugatti                   Chiron  2021              8.0      1500.0  \\\n",
       "14     Koenigsegg                    Jesko  2021              5.0      1280.0   \n",
       "24         Pagani                   Huayra  2021              6.0       720.0   \n",
       "85        Bugatti                   Chiron  2022              8.0      1500.0   \n",
       "88     Koenigsegg                    Jesko  2022              5.0      1600.0   \n",
       "95         Pagani                   Huayra  2022              6.0       764.0   \n",
       "113       Bugatti                   Chiron  2021              8.0      1500.0   \n",
       "158       Bugatti                   Chiron  2021              8.0      1500.0   \n",
       "161    Koenigsegg                    Jesko  2022              5.0      1600.0   \n",
       "166        Pagani                   Huayra  2020              6.0       720.0   \n",
       "174      W Motors         Lykan Hypersport  2015              3.7       780.0   \n",
       "206       Bugatti                   Chiron  2021              8.0      1500.0   \n",
       "274       Bugatti                   Chiron  2021              8.0      1500.0   \n",
       "275    Koenigsegg                    Jesko  2021              5.0      1280.0   \n",
       "279        Pagani       Huayra Roadster BC  2021              6.0       791.0   \n",
       "303       Bugatti                   Chiron  2021              8.0      1479.0   \n",
       "318        Pagani                   Huayra  2021              6.0       730.0   \n",
       "328    Koenigsegg                    Jesko  2022              5.0      1280.0   \n",
       "341       Bugatti                   Chiron  2021              8.0      1500.0   \n",
       "344    Koenigsegg                    Jesko  2022              5.0      1280.0   \n",
       "350        Pagani                Huayra BC  2021              6.0       791.0   \n",
       "376       Bugatti                   Chiron  2022              8.0      1500.0   \n",
       "379    Koenigsegg                    Jesko  2022              5.0      1280.0   \n",
       "385        Pagani                   Huayra  2021              6.0       764.0   \n",
       "418    Koenigsegg            Jesko Absolut  2022              5.0      1600.0   \n",
       "434       Bugatti                   Chiron  2022              8.0      1500.0   \n",
       "435    Koenigsegg                    Jesko  2021              5.0      1262.0   \n",
       "436        Pagani                   Huayra  2021              6.0       764.0   \n",
       "438   Lamborghini                     Sián  2021              6.5       819.0   \n",
       "499       Bugatti                   Chiron  2022              8.0      1500.0   \n",
       "502    Koenigsegg                    Jesko  2021              5.0      1280.0   \n",
       "507        Pagani                   Huayra  2021              6.0       764.0   \n",
       "519       Bugatti                   Chiron  2021              8.0      1500.0   \n",
       "539    Koenigsegg                    Jesko  2021              5.0      1280.0   \n",
       "541       Bugatti  Chiron Super Sport 300+  2022              8.0      1578.0   \n",
       "571       Bugatti                   Chiron  2021              8.0      1479.0   \n",
       "624       Bugatti         Chiron Pur Sport  2021              8.0      1500.0   \n",
       "631       Bugatti                   Chiron  2021              8.0      1500.0   \n",
       "683       Bugatti                   Chiron  2022              8.0      1500.0   \n",
       "684    Koenigsegg                    Jesko  2021              5.0      1280.0   \n",
       "685        Pagani                   Huayra  2021              6.0       764.0   \n",
       "782       Bugatti                   Chiron  2021              8.0      1479.0   \n",
       "822    Koenigsegg                    Jesko  2022              5.0      1600.0   \n",
       "823       Bugatti  Chiron Super Sport 300+  2021              8.0      1578.0   \n",
       "864       Bugatti                   Chiron  2022              8.0      1479.0   \n",
       "983       Bugatti                   Chiron  2022              8.0      1500.0   \n",
       "984    Koenigsegg                    Jesko  2022              5.0      1280.0   \n",
       "985        Pagani                   Huayra  2021              6.0       764.0   \n",
       "1001      Bugatti                   Chiron  2021              8.0      1479.0   \n",
       "1002   Koenigsegg                    Jesko  2022              5.0      1280.0   \n",
       "1005       Pagani                   Huayra  2021              6.0       764.0   \n",
       "\n",
       "      Torque (lb-ft)  0-60 MPH Time (seconds)  Price (in USD)   Z_Score  \n",
       "11            1180.0                      2.4         3000000  3.876311  \n",
       "14            1015.0                      2.5         2800000  3.584847  \n",
       "24             737.0                      2.8         2800000  3.584847  \n",
       "85            1180.0                      2.4         3000000  3.876311  \n",
       "88            1106.0                      2.5         3000000  3.876311  \n",
       "95             738.0                      2.8         2800000  3.584847  \n",
       "113           1180.0                      2.4         3000000  3.876311  \n",
       "158           1180.0                      2.4         3000000  3.876311  \n",
       "161           1106.0                      2.5         3000000  3.876311  \n",
       "166            738.0                      3.0         2700000  3.439115  \n",
       "174            708.0                      2.8         3400000  4.459239  \n",
       "206           1180.0                      2.3         3000000  3.876311  \n",
       "274           1180.0                      2.4         2998000  3.873396  \n",
       "275           1015.0                      2.5         3000000  3.876311  \n",
       "279            774.0                      2.5         3500000  4.604971  \n",
       "303           1180.0                      2.3         2998000  3.873396  \n",
       "318            738.0                      3.0         2600000  3.293383  \n",
       "328           1015.0                      2.5         3000000  3.876311  \n",
       "341           1180.0                      2.4         3000000  3.876311  \n",
       "344           1106.0                      2.5         2800000  3.584847  \n",
       "350            774.0                      2.7         2600000  3.293383  \n",
       "376           1180.0                      2.4         3000000  3.876311  \n",
       "379           1015.0                      2.5         2800000  3.584847  \n",
       "385            738.0                      2.8         3500000  4.604971  \n",
       "418           1106.0                      2.1         2800000  3.584847  \n",
       "434           1180.0                      2.4         3000000  3.876311  \n",
       "435           1106.0                      2.5         3000000  3.876311  \n",
       "436            738.0                      2.6         2600000  3.293383  \n",
       "438            531.0                      2.8         3600000  4.750703  \n",
       "499           1180.0                      2.3         3000000  3.876311  \n",
       "502           1106.0                      2.5         2800000  3.584847  \n",
       "507            738.0                      2.6         2600000  3.293383  \n",
       "519           1180.0                      2.3         3000000  3.876311  \n",
       "539           1015.0                      2.5         2800000  3.584847  \n",
       "541           1180.0                      2.3         5200000  7.082416  \n",
       "571           1180.0                      2.5         3000000  3.876311  \n",
       "624           1180.0                      2.3         3599000  4.749246  \n",
       "631           1180.0                      2.5         3000000  3.876311  \n",
       "683           1180.0                      2.4         3000000  3.876311  \n",
       "684           1106.0                      2.5         2800000  3.584847  \n",
       "685            737.0                      3.0         2600000  3.293383  \n",
       "782           1180.0                      2.4         3000000  3.876311  \n",
       "822           1106.0                      2.5         3000000  3.876311  \n",
       "823           1180.0                      2.4         5200000  7.082416  \n",
       "864           1180.0                      2.4         2900000  3.730579  \n",
       "983           1180.0                      2.5         3900000  5.187900  \n",
       "984           1015.0                      2.5         3000000  3.876311  \n",
       "985            740.0                      2.8         2600000  3.293383  \n",
       "1001          1180.0                      2.4         3000000  3.876311  \n",
       "1002          1106.0                      2.5         3000000  3.876311  \n",
       "1005           738.0                      3.0         2600000  3.293383  "
      ]
     },
     "execution_count": 189,
     "metadata": {},
     "output_type": "execute_result"
    }
   ],
   "source": [
    "outliers"
   ]
  }
 ],
 "metadata": {
  "kernelspec": {
   "display_name": "Python 3",
   "language": "python",
   "name": "python3"
  },
  "language_info": {
   "codemirror_mode": {
    "name": "ipython",
    "version": 3
   },
   "file_extension": ".py",
   "mimetype": "text/x-python",
   "name": "python",
   "nbconvert_exporter": "python",
   "pygments_lexer": "ipython3",
   "version": "3.11.3"
  },
  "orig_nbformat": 4
 },
 "nbformat": 4,
 "nbformat_minor": 2
}
